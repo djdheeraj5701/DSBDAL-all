{
 "cells": [
  {
   "cell_type": "code",
   "execution_count": 1,
   "id": "bb8ab35e",
   "metadata": {},
   "outputs": [],
   "source": [
    "import pandas as pd\n",
    "import numpy as np\n",
    "import seaborn as sb\n",
    "from sklearn.linear_model import *\n",
    "from sklearn.model_selection import *\n",
    "from sklearn.metrics import *\n",
    "\n",
    "from sklearn.naive_bayes import *"
   ]
  },
  {
   "cell_type": "code",
   "execution_count": 2,
   "id": "7ade254e",
   "metadata": {},
   "outputs": [
    {
     "data": {
      "text/html": [
       "<div>\n",
       "<style scoped>\n",
       "    .dataframe tbody tr th:only-of-type {\n",
       "        vertical-align: middle;\n",
       "    }\n",
       "\n",
       "    .dataframe tbody tr th {\n",
       "        vertical-align: top;\n",
       "    }\n",
       "\n",
       "    .dataframe thead th {\n",
       "        text-align: right;\n",
       "    }\n",
       "</style>\n",
       "<table border=\"1\" class=\"dataframe\">\n",
       "  <thead>\n",
       "    <tr style=\"text-align: right;\">\n",
       "      <th></th>\n",
       "      <th>Gender</th>\n",
       "      <th>Age</th>\n",
       "      <th>EstimatedSalary</th>\n",
       "      <th>Purchased</th>\n",
       "    </tr>\n",
       "  </thead>\n",
       "  <tbody>\n",
       "    <tr>\n",
       "      <th>count</th>\n",
       "      <td>400.000000</td>\n",
       "      <td>400.000000</td>\n",
       "      <td>400.000000</td>\n",
       "      <td>400.000000</td>\n",
       "    </tr>\n",
       "    <tr>\n",
       "      <th>mean</th>\n",
       "      <td>0.510000</td>\n",
       "      <td>37.655000</td>\n",
       "      <td>69742.500000</td>\n",
       "      <td>0.357500</td>\n",
       "    </tr>\n",
       "    <tr>\n",
       "      <th>std</th>\n",
       "      <td>0.500526</td>\n",
       "      <td>10.482877</td>\n",
       "      <td>34096.960282</td>\n",
       "      <td>0.479864</td>\n",
       "    </tr>\n",
       "    <tr>\n",
       "      <th>min</th>\n",
       "      <td>0.000000</td>\n",
       "      <td>18.000000</td>\n",
       "      <td>15000.000000</td>\n",
       "      <td>0.000000</td>\n",
       "    </tr>\n",
       "    <tr>\n",
       "      <th>25%</th>\n",
       "      <td>0.000000</td>\n",
       "      <td>29.750000</td>\n",
       "      <td>43000.000000</td>\n",
       "      <td>0.000000</td>\n",
       "    </tr>\n",
       "    <tr>\n",
       "      <th>50%</th>\n",
       "      <td>1.000000</td>\n",
       "      <td>37.000000</td>\n",
       "      <td>70000.000000</td>\n",
       "      <td>0.000000</td>\n",
       "    </tr>\n",
       "    <tr>\n",
       "      <th>75%</th>\n",
       "      <td>1.000000</td>\n",
       "      <td>46.000000</td>\n",
       "      <td>88000.000000</td>\n",
       "      <td>1.000000</td>\n",
       "    </tr>\n",
       "    <tr>\n",
       "      <th>max</th>\n",
       "      <td>1.000000</td>\n",
       "      <td>60.000000</td>\n",
       "      <td>150000.000000</td>\n",
       "      <td>1.000000</td>\n",
       "    </tr>\n",
       "  </tbody>\n",
       "</table>\n",
       "</div>"
      ],
      "text/plain": [
       "           Gender         Age  EstimatedSalary   Purchased\n",
       "count  400.000000  400.000000       400.000000  400.000000\n",
       "mean     0.510000   37.655000     69742.500000    0.357500\n",
       "std      0.500526   10.482877     34096.960282    0.479864\n",
       "min      0.000000   18.000000     15000.000000    0.000000\n",
       "25%      0.000000   29.750000     43000.000000    0.000000\n",
       "50%      1.000000   37.000000     70000.000000    0.000000\n",
       "75%      1.000000   46.000000     88000.000000    1.000000\n",
       "max      1.000000   60.000000    150000.000000    1.000000"
      ]
     },
     "execution_count": 2,
     "metadata": {},
     "output_type": "execute_result"
    }
   ],
   "source": [
    "d=pd.read_csv(\"Social_Network_Ads.csv\")\n",
    "df=pd.DataFrame(d)[[\"Gender\",\"Age\",\"EstimatedSalary\",\"Purchased\"]]\n",
    "df.replace({\"Gender\":\"Male\"},0,inplace=True)\n",
    "df.replace({\"Gender\":\"Female\"},1,inplace=True)\n",
    "df.describe()"
   ]
  },
  {
   "cell_type": "code",
   "execution_count": 3,
   "id": "e8f1e79d",
   "metadata": {},
   "outputs": [],
   "source": [
    "X=df[[\"Age\",\"EstimatedSalary\"]]\n",
    "Y=df[\"Purchased\"]\n",
    "\n",
    "x1,x2,y1,y2=train_test_split(X,Y,train_size=0.7)"
   ]
  },
  {
   "cell_type": "code",
   "execution_count": 4,
   "id": "5639a47c",
   "metadata": {},
   "outputs": [
    {
     "data": {
      "text/plain": [
       "<matplotlib.axes._subplots.AxesSubplot at 0x19b13f12e88>"
      ]
     },
     "execution_count": 4,
     "metadata": {},
     "output_type": "execute_result"
    },
    {
     "data": {
      "image/png": "[encoded data removed]",
      "text/plain": [
       "<Figure size 432x288 with 1 Axes>"
      ]
     },
     "metadata": {
      "needs_background": "light"
     },
     "output_type": "display_data"
    }
   ],
   "source": [
    "purchased=df[df[\"Purchased\"]==1]\n",
    "not_purchased=df[df[\"Purchased\"]==0]\n",
    "ax = purchased.plot.scatter(x=\"Age\", y=\"EstimatedSalary\", color=\"DarkGreen\", label=\"Purchased\")\n",
    "not_purchased.plot.scatter(x=\"Age\", y=\"EstimatedSalary\", color=\"DarkRed\", label=\"Not Purchased\", ax=ax)"
   ]
  },
  {
   "cell_type": "code",
   "execution_count": 5,
   "id": "da4fcc10",
   "metadata": {},
   "outputs": [
    {
     "name": "stdout",
     "output_type": "stream",
     "text": [
      "0.8875 0.8928571428571429 0.875\n"
     ]
    }
   ],
   "source": [
    "model = GaussianNB()\n",
    "model.fit(x1, y1)\n",
    "score1=model.score(x1,y1)\n",
    "score2=model.score(x2,y2)\n",
    "score=model.score(X,Y)\n",
    "print(score,score1,score2)"
   ]
  },
  {
   "cell_type": "code",
   "execution_count": 6,
   "id": "1954de01",
   "metadata": {},
   "outputs": [
    {
     "name": "stdout",
     "output_type": "stream",
     "text": [
      "Age Est.Sal. P' P\n",
      "36 63000 0 0\n",
      "33 41000 0 0\n",
      "37 77000 0 0\n",
      "42 54000 0 0\n",
      "39 106000 1 1\n",
      "47 25000 1 1\n",
      "48 30000 1 1\n",
      "34 25000 0 0\n",
      "27 20000 0 0\n",
      "57 33000 1 1\n",
      "38 71000 0 0\n",
      "20 82000 0 0\n",
      "39 73000 0 0\n",
      "23 66000 0 0\n",
      "52 138000 1 1\n",
      "37 74000 0 0\n",
      "45 131000 1 1\n",
      "23 48000 0 0\n",
      "60 42000 1 1\n",
      "46 28000 1 1\n",
      "39 42000 0 0\n",
      "45 32000 0 1\n",
      "48 33000 1 1\n",
      "35 23000 0 0\n",
      "32 117000 0 1\n",
      "27 58000 0 0\n",
      "46 74000 1 0\n",
      "40 47000 0 0\n",
      "28 123000 0 1\n",
      "50 20000 1 1\n",
      "45 26000 0 1\n",
      "22 27000 0 0\n",
      "38 80000 0 0\n",
      "52 114000 1 0\n",
      "19 70000 0 0\n",
      "24 23000 0 0\n",
      "52 38000 1 1\n",
      "34 72000 0 0\n",
      "26 80000 0 0\n",
      "35 53000 0 0\n",
      "35 75000 0 0\n",
      "42 75000 0 0\n",
      "56 133000 1 1\n",
      "59 130000 1 1\n",
      "26 80000 0 0\n",
      "29 83000 0 0\n",
      "46 96000 1 0\n",
      "19 19000 0 0\n",
      "40 71000 0 1\n",
      "40 78000 0 0\n",
      "36 75000 0 0\n",
      "42 108000 1 1\n",
      "35 97000 0 1\n",
      "26 32000 0 0\n",
      "25 80000 0 0\n",
      "49 39000 1 1\n",
      "32 86000 0 0\n",
      "35 50000 0 0\n",
      "35 91000 0 1\n",
      "53 104000 1 1\n",
      "25 87000 0 0\n",
      "35 72000 0 0\n",
      "30 62000 0 0\n",
      "58 101000 1 1\n",
      "35 27000 0 0\n",
      "30 49000 0 0\n",
      "35 77000 0 0\n",
      "42 79000 0 0\n",
      "42 70000 0 0\n",
      "27 96000 0 1\n",
      "46 23000 1 1\n",
      "40 57000 0 0\n",
      "38 71000 0 0\n",
      "33 28000 0 0\n",
      "31 18000 0 0\n",
      "24 55000 0 0\n",
      "52 21000 1 1\n",
      "40 75000 0 0\n",
      "35 39000 0 0\n",
      "46 88000 1 1\n",
      "50 88000 1 1\n",
      "19 85000 0 0\n",
      "38 59000 0 0\n",
      "60 102000 1 1\n",
      "33 43000 0 0\n",
      "39 79000 0 0\n",
      "34 43000 0 0\n",
      "39 42000 0 0\n",
      "58 38000 1 1\n",
      "35 57000 0 0\n",
      "28 89000 0 0\n",
      "37 78000 0 1\n",
      "38 61000 0 0\n",
      "48 96000 1 1\n",
      "30 80000 0 0\n",
      "42 73000 0 1\n",
      "33 31000 0 0\n",
      "37 55000 0 0\n",
      "42 53000 0 0\n",
      "53 34000 1 1\n",
      "59 83000 1 0\n",
      "41 63000 0 0\n",
      "51 23000 1 1\n",
      "24 27000 0 0\n",
      "48 90000 1 1\n",
      "40 60000 0 0\n",
      "49 65000 1 0\n",
      "37 53000 0 0\n",
      "35 50000 0 0\n",
      "35 22000 0 0\n",
      "35 108000 0 0\n",
      "44 39000 0 0\n",
      "35 147000 1 1\n",
      "29 47000 0 0\n",
      "28 87000 0 0\n",
      "49 88000 1 1\n",
      "35 75000 0 0\n",
      "35 44000 0 0\n",
      "55 125000 1 1\n",
      "42 64000 0 0\n"
     ]
    }
   ],
   "source": [
    "y2_=model.predict(x2)\n",
    "ny2=np.array(y2)\n",
    "nx2=np.array(x2)\n",
    "print(\"Age Est.Sal. P' P\")\n",
    "for i in range(len(ny2)):\n",
    "    print(*nx2[i],y2_[i],ny2[i])"
   ]
  },
  {
   "cell_type": "code",
   "execution_count": 7,
   "id": "6bbb9fed",
   "metadata": {},
   "outputs": [
    {
     "data": {
      "text/plain": [
       "array([[30, 10],\n",
       "       [ 5, 75]], dtype=int64)"
      ]
     },
     "execution_count": 7,
     "metadata": {},
     "output_type": "execute_result"
    }
   ],
   "source": [
    "cm = confusion_matrix(y_true=y2, y_pred=model.predict(x2))\n",
    "cm[::-1, ::-1]"
   ]
  },
  {
   "cell_type": "code",
   "execution_count": 8,
   "id": "292f3705",
   "metadata": {},
   "outputs": [
    {
     "name": "stderr",
     "output_type": "stream",
     "text": [
      "c:\\users\\djdheeraj\\pycharmprojects\\westart\\venv\\lib\\site-packages\\sklearn\\utils\\deprecation.py:87: FutureWarning: Function plot_confusion_matrix is deprecated; Function `plot_confusion_matrix` is deprecated in 1.0 and will be removed in 1.2. Use one of the class methods: ConfusionMatrixDisplay.from_predictions or ConfusionMatrixDisplay.from_estimator.\n",
      "  warnings.warn(msg, category=FutureWarning)\n"
     ]
    },
    {
     "data": {
      "text/plain": [
       "<sklearn.metrics._plot.confusion_matrix.ConfusionMatrixDisplay at 0x19b15ff6348>"
      ]
     },
     "execution_count": 8,
     "metadata": {},
     "output_type": "execute_result"
    },
    {
     "data": {
      "image/png": "[encoded data removed]",
      "text/plain": [
       "<Figure size 432x288 with 2 Axes>"
      ]
     },
     "metadata": {
      "needs_background": "light"
     },
     "output_type": "display_data"
    }
   ],
   "source": [
    "plot_confusion_matrix(model, x2,y2)"
   ]
  },
  {
   "cell_type": "code",
   "execution_count": 9,
   "id": "0199e6f0",
   "metadata": {},
   "outputs": [
    {
     "data": {
      "text/plain": [
       "array([[ 87,  16],\n",
       "       [ 14, 163]], dtype=int64)"
      ]
     },
     "execution_count": 9,
     "metadata": {},
     "output_type": "execute_result"
    }
   ],
   "source": [
    "cm = confusion_matrix(y_true=y1, y_pred=model.predict(x1))\n",
    "cm[::-1, ::-1]"
   ]
  },
  {
   "cell_type": "code",
   "execution_count": 10,
   "id": "cb9807ae",
   "metadata": {},
   "outputs": [
    {
     "name": "stderr",
     "output_type": "stream",
     "text": [
      "c:\\users\\djdheeraj\\pycharmprojects\\westart\\venv\\lib\\site-packages\\sklearn\\utils\\deprecation.py:87: FutureWarning: Function plot_confusion_matrix is deprecated; Function `plot_confusion_matrix` is deprecated in 1.0 and will be removed in 1.2. Use one of the class methods: ConfusionMatrixDisplay.from_predictions or ConfusionMatrixDisplay.from_estimator.\n",
      "  warnings.warn(msg, category=FutureWarning)\n"
     ]
    },
    {
     "data": {
      "text/plain": [
       "<sklearn.metrics._plot.confusion_matrix.ConfusionMatrixDisplay at 0x19b16010dc8>"
      ]
     },
     "execution_count": 10,
     "metadata": {},
     "output_type": "execute_result"
    },
    {
     "data": {
      "image/png": "[encoded data removed]",
      "text/plain": [
       "<Figure size 432x288 with 2 Axes>"
      ]
     },
     "metadata": {
      "needs_background": "light"
     },
     "output_type": "display_data"
    }
   ],
   "source": [
    "plot_confusion_matrix(model, x1,y1)"
   ]
  },
  {
   "cell_type": "code",
   "execution_count": 11,
   "id": "9e34addd",
   "metadata": {},
   "outputs": [
    {
     "data": {
      "text/plain": [
       "array([[117,  26],\n",
       "       [ 19, 238]], dtype=int64)"
      ]
     },
     "execution_count": 11,
     "metadata": {},
     "output_type": "execute_result"
    }
   ],
   "source": [
    "cm = confusion_matrix(y_true=Y, y_pred=model.predict(X))\n",
    "cm[::-1, ::-1]"
   ]
  },
  {
   "cell_type": "code",
   "execution_count": 12,
   "id": "2c78ba59",
   "metadata": {},
   "outputs": [
    {
     "name": "stderr",
     "output_type": "stream",
     "text": [
      "c:\\users\\djdheeraj\\pycharmprojects\\westart\\venv\\lib\\site-packages\\sklearn\\utils\\deprecation.py:87: FutureWarning: Function plot_confusion_matrix is deprecated; Function `plot_confusion_matrix` is deprecated in 1.0 and will be removed in 1.2. Use one of the class methods: ConfusionMatrixDisplay.from_predictions or ConfusionMatrixDisplay.from_estimator.\n",
      "  warnings.warn(msg, category=FutureWarning)\n"
     ]
    },
    {
     "data": {
      "text/plain": [
       "<sklearn.metrics._plot.confusion_matrix.ConfusionMatrixDisplay at 0x19b1618f588>"
      ]
     },
     "execution_count": 12,
     "metadata": {},
     "output_type": "execute_result"
    },
    {
     "data": {
      "image/png": "[encoded data removed]",
      "text/plain": [
       "<Figure size 432x288 with 2 Axes>"
      ]
     },
     "metadata": {
      "needs_background": "light"
     },
     "output_type": "display_data"
    }
   ],
   "source": [
    "plot_confusion_matrix(model, X,Y)"
   ]
  },
  {
   "cell_type": "code",
   "execution_count": null,
   "id": "7252bb56",
   "metadata": {},
   "outputs": [],
   "source": []
  },
  {
   "cell_type": "code",
   "execution_count": null,
   "id": "27a39752",
   "metadata": {},
   "outputs": [],
   "source": []
  }
 ],
 "metadata": {
  "kernelspec": {
   "display_name": "Python 3 (ipykernel)",
   "language": "python",
   "name": "python3"
  },
  "language_info": {
   "codemirror_mode": {
    "name": "ipython",
    "version": 3
   },
   "file_extension": ".py",
   "mimetype": "text/x-python",
   "name": "python",
   "nbconvert_exporter": "python",
   "pygments_lexer": "ipython3",
   "version": "3.7.6"
  }
 },
 "nbformat": 4,
 "nbformat_minor": 5
}
